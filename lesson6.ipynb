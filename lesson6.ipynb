{
 "cells": [
  {
   "cell_type": "code",
   "execution_count": null,
   "id": "3a187299",
   "metadata": {},
   "outputs": [],
   "source": [
    "!pip install selenium"
   ]
  },
  {
   "cell_type": "code",
   "execution_count": 2,
   "id": "3efabe01",
   "metadata": {},
   "outputs": [],
   "source": [
    "from selenium import webdriver"
   ]
  },
  {
   "cell_type": "code",
   "execution_count": 4,
   "id": "8340c164",
   "metadata": {},
   "outputs": [],
   "source": [
    "browser= webdriver.Chrome()"
   ]
  },
  {
   "cell_type": "code",
   "execution_count": 5,
   "id": "62552ac9",
   "metadata": {},
   "outputs": [],
   "source": [
    "browser.get(\"https://www.yahoo.co.jp\")"
   ]
  },
  {
   "cell_type": "code",
   "execution_count": 11,
   "id": "a693dce2",
   "metadata": {},
   "outputs": [],
   "source": [
    "from selenium.webdriver.common.by import By"
   ]
  },
  {
   "cell_type": "code",
   "execution_count": 12,
   "id": "cf62610d",
   "metadata": {},
   "outputs": [],
   "source": [
    "box=browser.find_element(By.NAME,\"p\")"
   ]
  },
  {
   "cell_type": "code",
   "execution_count": 13,
   "id": "c89257dc",
   "metadata": {},
   "outputs": [],
   "source": [
    "box.send_keys(\"python\")"
   ]
  },
  {
   "cell_type": "code",
   "execution_count": 9,
   "id": "3d204ac9",
   "metadata": {},
   "outputs": [],
   "source": [
    "from selenium.webdriver.common.by import By"
   ]
  },
  {
   "cell_type": "code",
   "execution_count": 14,
   "id": "474a5e51",
   "metadata": {},
   "outputs": [],
   "source": [
    "serch_button=browser.find_element(By.XPATH,\"/html/body/div/div[1]/header/section[1]/div/form/fieldset/span/button\")"
   ]
  },
  {
   "cell_type": "code",
   "execution_count": 15,
   "id": "f7e3c591",
   "metadata": {},
   "outputs": [],
   "source": [
    "serch_button.click()"
   ]
  },
  {
   "cell_type": "code",
   "execution_count": 16,
   "id": "64003f35",
   "metadata": {},
   "outputs": [],
   "source": [
    "browser.close()"
   ]
  },
  {
   "cell_type": "code",
   "execution_count": null,
   "id": "02560e3c",
   "metadata": {},
   "outputs": [],
   "source": []
  },
  {
   "cell_type": "code",
   "execution_count": 20,
   "id": "0e48c6fa",
   "metadata": {},
   "outputs": [],
   "source": [
    "from selenium import webdriver\n",
    "browser= webdriver.Chrome()\n",
    "\n",
    "browser.get(\"https://www.mhlw.go.jp/stf/covid-19/open-data.html\")\n",
    "\n",
    "yousei=browser.find_element(By.XPATH,\"/html/body/div[1]/main/div[2]/div/div/div[2]/div/strong/span/a[1]\")\n",
    "yousei.click()"
   ]
  },
  {
   "cell_type": "code",
   "execution_count": null,
   "id": "669bd92f",
   "metadata": {},
   "outputs": [],
   "source": []
  },
  {
   "cell_type": "code",
   "execution_count": 43,
   "id": "e1bee95a",
   "metadata": {},
   "outputs": [],
   "source": [
    "from glob import glob"
   ]
  },
  {
   "cell_type": "code",
   "execution_count": 44,
   "id": "23ae6877",
   "metadata": {},
   "outputs": [],
   "source": [
    "files=glob(r\"/Users/st/Downloads/*.csv\")"
   ]
  },
  {
   "cell_type": "code",
   "execution_count": 45,
   "id": "35e6652e",
   "metadata": {},
   "outputs": [],
   "source": [
    "import os"
   ]
  },
  {
   "cell_type": "code",
   "execution_count": 46,
   "id": "2934a776",
   "metadata": {},
   "outputs": [],
   "source": [
    "sorted_files=sorted(files,key=os.path.getmtime)"
   ]
  },
  {
   "cell_type": "code",
   "execution_count": 47,
   "id": "c05e7928",
   "metadata": {},
   "outputs": [
    {
     "data": {
      "text/plain": [
       "['/Users/st/Downloads/newly_confirmed_cases_daily.csv',\n",
       " '/Users/st/Downloads/newly_confirmed_cases_daily (1).csv']"
      ]
     },
     "execution_count": 47,
     "metadata": {},
     "output_type": "execute_result"
    }
   ],
   "source": [
    "sorted_files"
   ]
  },
  {
   "cell_type": "code",
   "execution_count": 48,
   "id": "966e8599",
   "metadata": {},
   "outputs": [
    {
     "data": {
      "text/plain": [
       "'/Users/st/Downloads/newly_confirmed_cases_daily (1).csv'"
      ]
     },
     "execution_count": 48,
     "metadata": {},
     "output_type": "execute_result"
    }
   ],
   "source": [
    "sorted_files[-1]"
   ]
  },
  {
   "cell_type": "code",
   "execution_count": 52,
   "id": "9a322a22",
   "metadata": {},
   "outputs": [
    {
     "data": {
      "text/plain": [
       "'/Users/st/Desktop/Python/6章\\u3000プラウザ操作の自動化/newly_confirmed_cases_daily (1).csv'"
      ]
     },
     "execution_count": 52,
     "metadata": {},
     "output_type": "execute_result"
    }
   ],
   "source": [
    "import shutil\n",
    "shutil.move(sorted_files[-1],os.getcwd())"
   ]
  },
  {
   "cell_type": "code",
   "execution_count": null,
   "id": "5d7548e7",
   "metadata": {},
   "outputs": [],
   "source": []
  },
  {
   "cell_type": "code",
   "execution_count": null,
   "id": "e7e9383d",
   "metadata": {},
   "outputs": [],
   "source": [
    "!pip install pandas"
   ]
  },
  {
   "cell_type": "code",
   "execution_count": 56,
   "id": "25817b7c",
   "metadata": {},
   "outputs": [],
   "source": [
    "import pandas as pd"
   ]
  },
  {
   "cell_type": "code",
   "execution_count": 60,
   "id": "d398f322",
   "metadata": {
    "scrolled": true
   },
   "outputs": [],
   "source": [
    "df=pd.read_csv(\"/Users/st/Desktop/Python/6章\\u3000プラウザ操作の自動化/newly_confirmed_cases_daily (1).csv\")"
   ]
  },
  {
   "cell_type": "code",
   "execution_count": 61,
   "id": "2e2d6054",
   "metadata": {},
   "outputs": [
    {
     "data": {
      "text/plain": [
       "33738398"
      ]
     },
     "execution_count": 61,
     "metadata": {},
     "output_type": "execute_result"
    }
   ],
   "source": [
    "df[\"ALL\"].sum()"
   ]
  },
  {
   "cell_type": "code",
   "execution_count": 62,
   "id": "4c6a9984",
   "metadata": {},
   "outputs": [
    {
     "data": {
      "text/plain": [
       "27906.036393713814"
      ]
     },
     "execution_count": 62,
     "metadata": {},
     "output_type": "execute_result"
    }
   ],
   "source": [
    "df[\"ALL\"].mean()"
   ]
  },
  {
   "cell_type": "code",
   "execution_count": 63,
   "id": "86d31643",
   "metadata": {},
   "outputs": [
    {
     "data": {
      "text/plain": [
       "261735"
      ]
     },
     "execution_count": 63,
     "metadata": {},
     "output_type": "execute_result"
    }
   ],
   "source": [
    "df[\"ALL\"].max()"
   ]
  },
  {
   "cell_type": "code",
   "execution_count": 64,
   "id": "5b69f19c",
   "metadata": {},
   "outputs": [
    {
     "data": {
      "text/plain": [
       "946"
      ]
     },
     "execution_count": 64,
     "metadata": {},
     "output_type": "execute_result"
    }
   ],
   "source": [
    "df[\"ALL\"].idxmax()"
   ]
  },
  {
   "cell_type": "code",
   "execution_count": 65,
   "id": "609dffe5",
   "metadata": {},
   "outputs": [
    {
     "data": {
      "text/plain": [
       "'2022/8/19'"
      ]
     },
     "execution_count": 65,
     "metadata": {},
     "output_type": "execute_result"
    }
   ],
   "source": [
    "df.iloc[946,0]"
   ]
  },
  {
   "cell_type": "code",
   "execution_count": 66,
   "id": "f1aa54a8",
   "metadata": {},
   "outputs": [
    {
     "data": {
      "text/plain": [
       "<BarContainer object of 1209 artists>"
      ]
     },
     "execution_count": 66,
     "metadata": {},
     "output_type": "execute_result"
    },
    {
     "data": {
      "image/png": "[encoded data removed]",
      "text/plain": [
       "<Figure size 640x480 with 1 Axes>"
      ]
     },
     "metadata": {},
     "output_type": "display_data"
    }
   ],
   "source": [
    "import matplotlib.pyplot as plt\n",
    "%matplotlib inline\n",
    "\n",
    "plt.bar(df.index,df[\"ALL\"])"
   ]
  },
  {
   "cell_type": "code",
   "execution_count": null,
   "id": "5505046c",
   "metadata": {},
   "outputs": [],
   "source": []
  }
 ],
 "metadata": {
  "kernelspec": {
   "display_name": "Python 3 (ipykernel)",
   "language": "python",
   "name": "python3"
  },
  "language_info": {
   "codemirror_mode": {
    "name": "ipython",
    "version": 3
   },
   "file_extension": ".py",
   "mimetype": "text/x-python",
   "name": "python",
   "nbconvert_exporter": "python",
   "pygments_lexer": "ipython3",
   "version": "3.11.5"
  }
 },
 "nbformat": 4,
 "nbformat_minor": 5
}
